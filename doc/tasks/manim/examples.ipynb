{
 "cells": [
  {
   "cell_type": "markdown",
   "metadata": {},
   "source": [
    "# 示例画廊\n",
    "\n",
    "本画廊包含了一系列最佳实践代码片段及其对应的视频/图像输出，展示了整个库中不同的功能。这些示例均采用 MIT 许可证，因此你可以自由地将它们复制并粘贴到你的项目中。尽情体验 Manim 的魅力吧！\n",
    "\n",
    "```{tip}\n",
    "本画廊并不是我们文档中唯一可以查看显式代码和视频示例的地方，还有更多示例——例如，查看我们关于 {mod}`~.tex_mobject`、{mod}`~.geometry`、{mod}`~.moving_camera_scene` 等模块的文档。\n",
    "\n",
    "   你还可以访问我们的 `交互式 Jupyter 环境 <https://mybinder.org/v2/gh/ManimCommunity/jupyter_examples/HEAD?filepath=basic_example_scenes.ipynb>`_，它允许你在不进行本地安装的情况下在线运行这些示例。\n",
    "\n",
    "   此外，访问我们的 `Twitter <https://twitter.com/manim_community/>`_ 以获取更多精彩的 *manimations*！\n",
    "```"
   ]
  },
  {
   "cell_type": "code",
   "execution_count": 1,
   "metadata": {},
   "outputs": [],
   "source": [
    "from manim import *"
   ]
  },
  {
   "cell_type": "markdown",
   "metadata": {},
   "source": [
    "## 基本概念"
   ]
  },
  {
   "cell_type": "code",
   "execution_count": null,
   "metadata": {},
   "outputs": [],
   "source": [
    "%%manim -v WARNING --disable_caching -qm ManimCELogo\n",
    "\n",
    "config.media_width = \"25%\"\n",
    "config.media_embed = True\n",
    "\n",
    "class ManimCELogo(Scene):\n",
    "    def construct(self):\n",
    "        self.camera.background_color = \"#ece6e2\"\n",
    "        logo_green = \"#87c2a5\"\n",
    "        logo_blue = \"#525893\"\n",
    "        logo_red = \"#e07a5f\"\n",
    "        logo_black = \"#343434\"\n",
    "        ds_m = MathTex(r\"\\mathbb{M}\", fill_color=logo_black).scale(7)\n",
    "        ds_m.shift(2.25 * LEFT + 1.5 * UP)\n",
    "        circle = Circle(color=logo_green, fill_opacity=1).shift(LEFT)\n",
    "        square = Square(color=logo_blue, fill_opacity=1).shift(UP)\n",
    "        triangle = Triangle(color=logo_red, fill_opacity=1).shift(RIGHT)\n",
    "        logo = VGroup(triangle, square, circle, ds_m)  # order matters\n",
    "        logo.move_to(ORIGIN)\n",
    "        self.add(logo)"
   ]
  },
  {
   "cell_type": "code",
   "execution_count": null,
   "metadata": {},
   "outputs": [],
   "source": [
    "%%manim -v WARNING --disable_caching -qm  BraceAnnotation\n",
    "\n",
    "config.media_width = \"25%\"\n",
    "config.media_embed = True\n",
    "\n",
    "class BraceAnnotation(Scene):\n",
    "    def construct(self):\n",
    "        dot = Dot([-2, -1, 0])\n",
    "        dot2 = Dot([2, 1, 0])\n",
    "        line = Line(dot.get_center(), dot2.get_center()).set_color(ORANGE)\n",
    "        b1 = Brace(line)\n",
    "        b1text = b1.get_text(\"Horizontal distance\")\n",
    "        b2 = Brace(line, direction=line.copy().rotate(PI / 2).get_unit_vector())\n",
    "        b2text = b2.get_tex(\"x-x_1\")\n",
    "        self.add(line, dot, dot2, b1, b2, b1text, b2text)"
   ]
  },
  {
   "cell_type": "code",
   "execution_count": null,
   "metadata": {},
   "outputs": [],
   "source": [
    "%%manim -v WARNING --disable_caching -qm  VectorArrow\n",
    "\n",
    "config.media_width = \"25%\"\n",
    "config.media_embed = True\n",
    "\n",
    "class VectorArrow(Scene):\n",
    "    def construct(self):\n",
    "        dot = Dot(ORIGIN)\n",
    "        arrow = Arrow(ORIGIN, [2, 2, 0], buff=0)\n",
    "        numberplane = NumberPlane()\n",
    "        origin_text = Text('(0, 0)').next_to(dot, DOWN)\n",
    "        tip_text = Text('(2, 2)').next_to(arrow.get_end(), RIGHT)\n",
    "        self.add(numberplane, dot, arrow, origin_text, tip_text)"
   ]
  },
  {
   "cell_type": "code",
   "execution_count": null,
   "metadata": {},
   "outputs": [],
   "source": [
    "%%manim -v WARNING --disable_caching -qm  GradientImageFromArray\n",
    "\n",
    "config.media_width = \"25%\"\n",
    "config.media_embed = True\n",
    "\n",
    "class GradientImageFromArray(Scene):\n",
    "    def construct(self):\n",
    "        n = 256\n",
    "        imageArray = np.uint8(\n",
    "            [[i * 256 / n for i in range(0, n)] for _ in range(0, n)]\n",
    "        )\n",
    "        image = ImageMobject(imageArray).scale(2)\n",
    "        image.background_rectangle = SurroundingRectangle(image, color=GREEN)\n",
    "        self.add(image, image.background_rectangle)"
   ]
  },
  {
   "cell_type": "code",
   "execution_count": null,
   "metadata": {},
   "outputs": [],
   "source": [
    "%%manim -v WARNING --disable_caching -qm BooleanOperations\n",
    "\n",
    "class BooleanOperations(Scene):\n",
    "    def construct(self):\n",
    "        ellipse1 = Ellipse(\n",
    "            width=4.0, height=5.0, fill_opacity=0.5, color=BLUE, stroke_width=10\n",
    "        ).move_to(LEFT)\n",
    "        ellipse2 = ellipse1.copy().set_color(color=RED).move_to(RIGHT)\n",
    "        bool_ops_text = MarkupText(\"<u>Boolean Operation</u>\").next_to(ellipse1, UP * 3)\n",
    "        ellipse_group = Group(bool_ops_text, ellipse1, ellipse2).move_to(LEFT * 3)\n",
    "        self.play(FadeIn(ellipse_group))\n",
    "\n",
    "        i = Intersection(ellipse1, ellipse2, color=GREEN, fill_opacity=0.5)\n",
    "        self.play(i.animate.scale(0.25).move_to(RIGHT * 5 + UP * 2.5))\n",
    "        intersection_text = Text(\"Intersection\", font_size=23).next_to(i, UP)\n",
    "        self.play(FadeIn(intersection_text))\n",
    "\n",
    "        u = Union(ellipse1, ellipse2, color=ORANGE, fill_opacity=0.5)\n",
    "        union_text = Text(\"Union\", font_size=23)\n",
    "        self.play(u.animate.scale(0.3).next_to(i, DOWN, buff=union_text.height * 3))\n",
    "        union_text.next_to(u, UP)\n",
    "        self.play(FadeIn(union_text))\n",
    "\n",
    "        e = Exclusion(ellipse1, ellipse2, color=YELLOW, fill_opacity=0.5)\n",
    "        exclusion_text = Text(\"Exclusion\", font_size=23)\n",
    "        self.play(e.animate.scale(0.3).next_to(u, DOWN, buff=exclusion_text.height * 3.5))\n",
    "        exclusion_text.next_to(e, UP)\n",
    "        self.play(FadeIn(exclusion_text))\n",
    "\n",
    "        d = Difference(ellipse1, ellipse2, color=PINK, fill_opacity=0.5)\n",
    "        difference_text = Text(\"Difference\", font_size=23)\n",
    "        self.play(d.animate.scale(0.3).next_to(u, LEFT, buff=difference_text.height * 3.5))\n",
    "        difference_text.next_to(d, UP)\n",
    "        self.play(FadeIn(difference_text))"
   ]
  },
  {
   "cell_type": "markdown",
   "metadata": {},
   "source": [
    "## 动画"
   ]
  },
  {
   "cell_type": "markdown",
   "metadata": {},
   "source": []
  }
 ],
 "metadata": {
  "kernelspec": {
   "display_name": "ai",
   "language": "python",
   "name": "python3"
  },
  "language_info": {
   "codemirror_mode": {
    "name": "ipython",
    "version": 3
   },
   "file_extension": ".py",
   "mimetype": "text/x-python",
   "name": "python",
   "nbconvert_exporter": "python",
   "pygments_lexer": "ipython3",
   "version": "3.12.2"
  }
 },
 "nbformat": 4,
 "nbformat_minor": 2
}
